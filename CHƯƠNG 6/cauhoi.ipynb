{
 "cells": [
  {
   "cell_type": "code",
   "execution_count": 2,
   "metadata": {},
   "outputs": [
    {
     "data": {
      "text/plain": [
       "'\\nTrong Cpython, Global Interpreter Lock - GIL giới hạn chỉ có một thread được chạy tại một thời điểm, nên về cơ bản Cpython sẽ không hoàn toàn hỗ trợ đa luồng\\n'"
      ]
     },
     "execution_count": 2,
     "metadata": {},
     "output_type": "execute_result"
    }
   ],
   "source": [
    "#1.Multithreading trong Python: \n",
    "'''\n",
    "Trong lập trình đa luồng, các threads chia sẻ chung tài nguyên của tiến trình, vì vậy có những thời điểm nhiều luồng sẽ đồng thời thay đổi dữ liệu chung.\n",
    "'''\n",
    "#2.Khái niệm Thread trong Python: \n",
    "'''\n",
    "Thread là một đơn vị cơ bản trong CPU. Một luồng sẽ chia sẻ với các luồng khác trong cùng process về thông tin data, các dữ liệu của mình.\n",
    "'''\n",
    "#3.Số lượng Thread chạy cùng một thời điểm trong Python: \n",
    "'''\n",
    "Số lượng thread chạy song song trong cùng một thời điểm sẽ bằng với số lượng nhân CPU mà máy tính chúng ta có. \n",
    "Theo kinh nghiệm lập trình chúng ta chỉ nên tạo số thread bằng số nhân CPU * 23.\n",
    "'''\n",
    "#4.Lợi ích khi sử dụng đa luồng trong Python: \n",
    "'''\n",
    "Đa luồng cho phép chương trình chạy nhiều công việc cùng một lúc, giúp tận dụng tốt các nguồn có sẵn, đặc biệt khi máy tính có nhiều CPU.\n",
    "'''\n",
    "#5.Sự khác nhau giữa tiến trình và luồng: \n",
    "'''\n",
    "Tiến trình là chương trình trong thời gian thực hiện đặt dưới sự quản lý của HĐH. \n",
    "Luồng là tiến trình nhẹ, một đơn vị cơ bản sử dụng CPU, cũng có thông tin về trạng thái giống với tiến trình và là một đơn vị nhỏ hơn của tiến trình.\n",
    "'''\n",
    "#6.Tại sao lập trình viên cần các locks khi viết code đa luồng: \n",
    "'''\n",
    "Lập trình viên cần các locks để đảm bảo rằng chỉ có một thread có thể truy cập vào một tài nguyên chung tại một thời điểm. \n",
    "Điều này giúp tránh các vấn đề liên quan đến việc đọc và ghi dữ liệu không đồng bộ, dẫn đến dữ liệu không nhất quán.\n",
    "'''\n",
    "#7.Đồng bộ hóa trong đa luồng Python: \n",
    "'''\n",
    "Đồng bộ hóa là quá trình đảm bảo rằng các thread không truy cập cùng lúc vào cùng một tài nguyên chung, điều này có thể dẫn đến dữ liệu không nhất quán. \n",
    "Các phương pháp đồng bộ hóa bao gồm việc sử dụng locks, semaphores, và biến điều kiện.\n",
    "'''\n",
    "#8.Triển khai khóa trong Python: \n",
    "'''\n",
    "Python cung cấp một số cách để triển khai khóa, bao gồm việc sử dụng các đối tượng Lock và RLock từ module threading. \n",
    "Các khóa này có thể được sử dụng để đảm bảo rằng chỉ có một thread có thể truy cập vào một tài nguyên chung tại một thời điểm.\n",
    "'''\n",
    "#9.Hai luồng cố gắng lấy cùng một khóa đồng thời: \n",
    "'''\n",
    "Nếu hai hoặc nhiều luồng đang chờ luồng kia mãi mãi để giải phóng các tài nguyên, thì tình trạng deadlock sẽ xảy ra.\n",
    "'''\n",
    "#10.Giới hạn hoặc hạn chế khi sử dụng mô-đun Threading trong Python: \n",
    "'''\n",
    "Trong Cpython, Global Interpreter Lock - GIL giới hạn chỉ có một thread được chạy tại một thời điểm, nên về cơ bản Cpython sẽ không hoàn toàn hỗ trợ đa luồng\n",
    "'''"
   ]
  }
 ],
 "metadata": {
  "kernelspec": {
   "display_name": "Python 3",
   "language": "python",
   "name": "python3"
  },
  "language_info": {
   "codemirror_mode": {
    "name": "ipython",
    "version": 3
   },
   "file_extension": ".py",
   "mimetype": "text/x-python",
   "name": "python",
   "nbconvert_exporter": "python",
   "pygments_lexer": "ipython3",
   "version": "3.12.0"
  }
 },
 "nbformat": 4,
 "nbformat_minor": 2
}
