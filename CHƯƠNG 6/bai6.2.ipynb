{
 "cells": [
  {
   "cell_type": "code",
   "execution_count": 1,
   "metadata": {},
   "outputs": [
    {
     "name": "stdout",
     "output_type": "stream",
     "text": [
      "Failed to download https://example.com/file3.txt\n",
      "Failed to download https://example.com/file1.txt\n",
      "Failed to download https://example.com/file2.txt\n"
     ]
    }
   ],
   "source": [
    "import threading\n",
    "import requests\n",
    "\n",
    "def download_file(url, destination):\n",
    "    response = requests.get(url)\n",
    "    if response.status_code == 200:\n",
    "        with open(destination, 'wb') as file:\n",
    "            file.write(response.content)\n",
    "        print(f\"Downloaded {url} to {destination}\")\n",
    "    else:\n",
    "        print(f\"Failed to download {url}\")\n",
    "\n",
    "def main():\n",
    "    # Danh sách các URL cần tải xuống\n",
    "    urls = [\n",
    "        \"https://example.com/file1.txt\",\n",
    "        \"https://example.com/file2.txt\",\n",
    "        \"https://example.com/file3.txt\",\n",
    "        # Thêm các URL khác nếu cần\n",
    "    ]\n",
    "\n",
    "    # Khởi tạo và khởi chạy các luồng tải xuống\n",
    "    threads = []\n",
    "    for i, url in enumerate(urls):\n",
    "        thread = threading.Thread(target=download_file, args=(url, f\"file{i+1}.txt\"))\n",
    "        thread.start()\n",
    "        threads.append(thread)\n",
    "\n",
    "    # Chờ cho tất cả các luồng hoàn thành\n",
    "    for thread in threads:\n",
    "        thread.join()\n",
    "\n",
    "if __name__ == \"__main__\":\n",
    "    main()\n"
   ]
  }
 ],
 "metadata": {
  "kernelspec": {
   "display_name": "base",
   "language": "python",
   "name": "python3"
  },
  "language_info": {
   "codemirror_mode": {
    "name": "ipython",
    "version": 3
   },
   "file_extension": ".py",
   "mimetype": "text/x-python",
   "name": "python",
   "nbconvert_exporter": "python",
   "pygments_lexer": "ipython3",
   "version": "3.11.5"
  }
 },
 "nbformat": 4,
 "nbformat_minor": 2
}
