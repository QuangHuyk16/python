{
 "cells": [
  {
   "cell_type": "code",
   "execution_count": 1,
   "metadata": {},
   "outputs": [
    {
     "name": "stdout",
     "output_type": "stream",
     "text": [
      "The factorial of 5 is: 120\n"
     ]
    }
   ],
   "source": [
    "import threading\n",
    "import math\n",
    "\n",
    "def calculate_factorial(number, result):\n",
    "    result[0] = math.factorial(number)\n",
    "\n",
    "def main():\n",
    "    # Số cần tính giai thừa\n",
    "    number = 5\n",
    "\n",
    "    # Biến lưu trữ kết quả giai thừa\n",
    "    result = [0]\n",
    "\n",
    "    # Tạo và khởi chạy luồng để tính giai thừa\n",
    "    thread = threading.Thread(target=calculate_factorial, args=(number, result))\n",
    "    thread.start()\n",
    "\n",
    "    # Chờ cho luồng hoàn thành\n",
    "    thread.join()\n",
    "\n",
    "    # In ra kết quả giai thừa\n",
    "    print(f\"The factorial of {number} is: {result[0]}\")\n",
    "\n",
    "if __name__ == \"__main__\":\n",
    "    main()\n"
   ]
  }
 ],
 "metadata": {
  "kernelspec": {
   "display_name": "base",
   "language": "python",
   "name": "python3"
  },
  "language_info": {
   "codemirror_mode": {
    "name": "ipython",
    "version": 3
   },
   "file_extension": ".py",
   "mimetype": "text/x-python",
   "name": "python",
   "nbconvert_exporter": "python",
   "pygments_lexer": "ipython3",
   "version": "3.11.5"
  }
 },
 "nbformat": 4,
 "nbformat_minor": 2
}
