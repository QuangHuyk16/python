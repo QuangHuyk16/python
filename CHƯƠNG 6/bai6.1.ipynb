{
 "cells": [
  {
   "cell_type": "code",
   "execution_count": 1,
   "metadata": {},
   "outputs": [
    {
     "name": "stdout",
     "output_type": "stream",
     "text": [
      "Thread name: Thread-1\n",
      "Thread name: Thread-2\n",
      "Thread name: Thread-3\n",
      "Thread name: Thread-4\n",
      "Thread name: Thread-5\n"
     ]
    }
   ],
   "source": [
    "import threading\n",
    "\n",
    "def print_thread_name():\n",
    "    # Hàm in tên của luồng\n",
    "    thread_name = threading.current_thread().name\n",
    "    print(f\"Thread name: {thread_name}\")\n",
    "\n",
    "def main():\n",
    "    # Số lượng luồng cần tạo\n",
    "    num_threads = 5\n",
    "\n",
    "    # Tạo và khởi chạy các luồng\n",
    "    threads = []\n",
    "    for i in range(num_threads):\n",
    "        thread = threading.Thread(target=print_thread_name, name=f\"Thread-{i+1}\")\n",
    "        thread.start()\n",
    "        threads.append(thread)\n",
    "\n",
    "    # Chờ cho tất cả các luồng hoàn thành\n",
    "    for thread in threads:\n",
    "        thread.join()\n",
    "\n",
    "if __name__ == \"__main__\":\n",
    "    main()\n"
   ]
  }
 ],
 "metadata": {
  "kernelspec": {
   "display_name": "base",
   "language": "python",
   "name": "python3"
  },
  "language_info": {
   "codemirror_mode": {
    "name": "ipython",
    "version": 3
   },
   "file_extension": ".py",
   "mimetype": "text/x-python",
   "name": "python",
   "nbconvert_exporter": "python",
   "pygments_lexer": "ipython3",
   "version": "3.11.5"
  }
 },
 "nbformat": 4,
 "nbformat_minor": 2
}
