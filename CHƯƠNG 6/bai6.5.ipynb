{
 "cells": [
  {
   "cell_type": "code",
   "execution_count": 1,
   "metadata": {},
   "outputs": [
    {
     "name": "stdout",
     "output_type": "stream",
     "text": [
      "Request to https://www.example.com completed with status code 200\n",
      "Request to https://www.example.net completed with status code 200\n",
      "Request to https://www.example.org completed with status code 200\n"
     ]
    }
   ],
   "source": [
    "import threading\n",
    "import requests\n",
    "\n",
    "def make_http_request(url):\n",
    "    response = requests.get(url)\n",
    "    print(f\"Request to {url} completed with status code {response.status_code}\")\n",
    "\n",
    "def main():\n",
    "    # Danh sách các URL cần thực hiện yêu cầu\n",
    "    urls = [\n",
    "        \"https://www.example.com\",\n",
    "        \"https://www.example.org\",\n",
    "        \"https://www.example.net\",\n",
    "        # Thêm các URL khác nếu cần\n",
    "    ]\n",
    "\n",
    "    # Khởi tạo và khởi chạy các luồng\n",
    "    threads = []\n",
    "    for url in urls:\n",
    "        thread = threading.Thread(target=make_http_request, args=(url,))\n",
    "        thread.start()\n",
    "        threads.append(thread)\n",
    "\n",
    "    # Chờ cho tất cả các luồng hoàn thành\n",
    "    for thread in threads:\n",
    "        thread.join()\n",
    "\n",
    "if __name__ == \"__main__\":\n",
    "    main()\n"
   ]
  }
 ],
 "metadata": {
  "kernelspec": {
   "display_name": "base",
   "language": "python",
   "name": "python3"
  },
  "language_info": {
   "codemirror_mode": {
    "name": "ipython",
    "version": 3
   },
   "file_extension": ".py",
   "mimetype": "text/x-python",
   "name": "python",
   "nbconvert_exporter": "python",
   "pygments_lexer": "ipython3",
   "version": "3.11.5"
  }
 },
 "nbformat": 4,
 "nbformat_minor": 2
}
