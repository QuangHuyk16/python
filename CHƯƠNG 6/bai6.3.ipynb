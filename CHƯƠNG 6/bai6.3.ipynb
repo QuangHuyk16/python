{
 "cells": [
  {
   "cell_type": "code",
   "execution_count": 1,
   "metadata": {},
   "outputs": [
    {
     "name": "stdout",
     "output_type": "stream",
     "text": [
      "Even numbers:\n",
      "30\n",
      "32\n",
      "34\n",
      "36\n",
      "38\n",
      "40\n",
      "42\n",
      "44\n",
      "46\n",
      "48\n",
      "50\n",
      "Odd numbers:\n",
      "31\n",
      "33\n",
      "35\n",
      "37\n",
      "39\n",
      "41\n",
      "43\n",
      "45\n",
      "47\n",
      "49\n"
     ]
    }
   ],
   "source": [
    "import threading\n",
    "\n",
    "def print_even_numbers():\n",
    "    print(\"Even numbers:\")\n",
    "    for num in range(30, 51, 2):\n",
    "        print(num)\n",
    "\n",
    "def print_odd_numbers():\n",
    "    print(\"Odd numbers:\")\n",
    "    for num in range(31, 51, 2):\n",
    "        print(num)\n",
    "\n",
    "def main():\n",
    "    # Khởi tạo và khởi chạy hai luồng\n",
    "    thread_even = threading.Thread(target=print_even_numbers)\n",
    "    thread_odd = threading.Thread(target=print_odd_numbers)\n",
    "\n",
    "    thread_even.start()\n",
    "    thread_odd.start()\n",
    "\n",
    "    # Chờ cho cả hai luồng hoàn thành\n",
    "    thread_even.join()\n",
    "    thread_odd.join()\n",
    "\n",
    "if __name__ == \"__main__\":\n",
    "    main()\n"
   ]
  }
 ],
 "metadata": {
  "kernelspec": {
   "display_name": "base",
   "language": "python",
   "name": "python3"
  },
  "language_info": {
   "codemirror_mode": {
    "name": "ipython",
    "version": 3
   },
   "file_extension": ".py",
   "mimetype": "text/x-python",
   "name": "python",
   "nbconvert_exporter": "python",
   "pygments_lexer": "ipython3",
   "version": "3.11.5"
  }
 },
 "nbformat": 4,
 "nbformat_minor": 2
}
