{
 "cells": [
  {
   "cell_type": "code",
   "execution_count": 2,
   "metadata": {},
   "outputs": [
    {
     "name": "stdout",
     "output_type": "stream",
     "text": [
      "#document\n",
      "company\n",
      "3 staff\n",
      "1\n",
      "2\n",
      "3\n"
     ]
    }
   ],
   "source": [
    "import xml.dom.minidom\n",
    "\n",
    "def main():\n",
    "    doc = xml.dom.minidom.parse(\"sample.xml\")\n",
    "\n",
    "    print(doc.nodeName)\n",
    "    print(doc.firstChild.tagName)\n",
    "\n",
    "    staff = doc.getElementsByTagName(\"staff\")\n",
    "    print(\"{} staff\".format(staff.length))\n",
    "    for skill in staff:\n",
    "        print(skill.getAttribute(\"id\"))\n",
    "\n",
    "if __name__ == \"__main__\":\n",
    "    main();"
   ]
  }
 ],
 "metadata": {
  "kernelspec": {
   "display_name": "Python 3",
   "language": "python",
   "name": "python3"
  },
  "language_info": {
   "codemirror_mode": {
    "name": "ipython",
    "version": 3
   },
   "file_extension": ".py",
   "mimetype": "text/x-python",
   "name": "python",
   "nbconvert_exporter": "python",
   "pygments_lexer": "ipython3",
   "version": "3.11.5"
  }
 },
 "nbformat": 4,
 "nbformat_minor": 2
}
