{
 "cells": [
  {
   "cell_type": "code",
   "execution_count": null,
   "metadata": {},
   "outputs": [],
   "source": [
    "import requests\n",
    "\n",
    "# Địa chỉ API\n",
    "url = \"https://jsonplaceholder.typicode.com/posts\"\n",
    "\n",
    "# Gửi yêu cầu GET đến API và lấy về dữ liệu JSON\n",
    "response = requests.get(url)\n",
    "data = response.json()\n",
    "\n",
    "# Hiển thị tổng số bài post\n",
    "print(f\"Tổng số bài post: {len(data)}\")\n",
    "\n",
    "# Hiển thị danh sách các bài post\n",
    "for i, post in enumerate(data, start=1):\n",
    "    print(f\"{i}. userID: {post['userId']}, id: {post['id']}, title: {post['title']}, body: {post['body']}\")\n"
   ]
  }
 ],
 "metadata": {
  "language_info": {
   "name": "python"
  }
 },
 "nbformat": 4,
 "nbformat_minor": 2
}
