{
 "cells": [
  {
   "cell_type": "code",
   "execution_count": null,
   "metadata": {},
   "outputs": [],
   "source": [
    "import json\n",
    "\n",
    "# Đọc dữ liệu từ tệp JSON\n",
    "with open('nhan_vien.json', 'r') as f:\n",
    "    data = json.load(f)\n",
    "\n",
    "# Thống kê nhân viên\n",
    "tong_so_nhan_vien = len(data['nhan_vien'])\n",
    "thong_ke = {}\n",
    "\n",
    "for nhan_vien in data['nhan_vien']:\n",
    "    don_vi = nhan_vien['don_vi']\n",
    "    if don_vi not in thong_ke:\n",
    "        thong_ke[don_vi] = 0\n",
    "    thong_ke[don_vi] += 1\n",
    "\n",
    "# In thông tin công ty\n",
    "print(f\"Tên công ty: {data['ten_cong_ty']}\")\n",
    "print(f\"Địa chỉ: {data['dia_chi']}\")\n",
    "print(f\"Tổng số nhân viên: {tong_so_nhan_vien}\")\n",
    "\n",
    "# In thống kê nhân viên\n",
    "print(\"-----Thống kê nhân viên theo đơn vị------\")\n",
    "for i, (don_vi, so_nhan_vien) in enumerate(thong_ke.items(), start=1):\n",
    "    ty_le = (so_nhan_vien / tong_so_nhan_vien) * 100\n",
    "    print(f\"{i}./Tên đơn vị: {don_vi}. - Số nhân viên: {so_nhan_vien}. - Tỷ lệ: {ty_le:.2f}%.\")\n"
   ]
  }
 ],
 "metadata": {
  "language_info": {
   "name": "python"
  }
 },
 "nbformat": 4,
 "nbformat_minor": 2
}
