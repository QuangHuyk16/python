{
 "cells": [
  {
   "cell_type": "code",
   "execution_count": null,
   "metadata": {},
   "outputs": [],
   "source": [
    "import requests\n",
    "\n",
    "# Địa chỉ API\n",
    "url = \"https://jsonplaceholder.typicode.com/comments?postId=1\"\n",
    "\n",
    "# Gửi yêu cầu GET đến API và lấy về dữ liệu JSON\n",
    "response = requests.get(url)\n",
    "data = response.json()\n",
    "\n",
    "# Hiển thị danh sách các bài post nổi bật\n",
    "print(\"Danh sách các bài post nổi bật:\")\n",
    "\n",
    "# Giới hạn chỉ hiển thị 3 bài đầu\n",
    "for i, post in enumerate(data[:3], start=1):\n",
    "    print(f\"{i}. postId: {post['postId']}, id: {post['id']}, name: {post['name']}, email: {post['email']}, body: {post['body']}\")\n"
   ]
  }
 ],
 "metadata": {
  "language_info": {
   "name": "python"
  }
 },
 "nbformat": 4,
 "nbformat_minor": 2
}
