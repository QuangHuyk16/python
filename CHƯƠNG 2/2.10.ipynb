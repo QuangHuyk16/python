{
 "cells": [
  {
   "cell_type": "code",
   "execution_count": null,
   "metadata": {},
   "outputs": [],
   "source": [
    "import json\n",
    "from datetime import datetime\n",
    "\n",
    "# Giả sử danh sách các giao dịch được lưu trong biến `giao_dich`\n",
    "giao_dich = [\n",
    "    # Các giao dịch...\n",
    "]\n",
    "\n",
    "while True:\n",
    "    # Thực hiện giao dịch...\n",
    "    \n",
    "    # Hỏi người dùng có muốn ghi vào tệp tin hay không\n",
    "    lua_chon = input(\"Bạn có muốn ghi vào tệp tin hay không? (1: Có, 0: Không): \")\n",
    "    if lua_chon == \"1\":\n",
    "        # Lấy thông tin ngày hiện tại theo định dạng: nam-thang-ngay-gio-phut-giay\n",
    "        thoi_gian = datetime.now().strftime(\"%Y-%m-%d-%H-%M-%S\")\n",
    "        \n",
    "        # Lưu danh sách các giao dịch vào tệp tin nam-thang-ngay-gio-phut-giay.json\n",
    "        with open(f\"{thoi_gian}.json\", \"w\") as f:\n",
    "            json.dump(giao_dich, f)\n",
    "        \n",
    "        print(\"Đã ghi thành công vào tệp tin.\")\n",
    "        break\n",
    "    elif lua_chon == \"0\":\n",
    "        print(\"Không ghi vào tệp tin.\")\n",
    "        break\n"
   ]
  }
 ],
 "metadata": {
  "language_info": {
   "name": "python"
  }
 },
 "nbformat": 4,
 "nbformat_minor": 2
}
