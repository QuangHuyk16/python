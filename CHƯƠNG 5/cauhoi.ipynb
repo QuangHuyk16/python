{
 "cells": [
  {
   "cell_type": "code",
   "execution_count": 8,
   "metadata": {},
   "outputs": [
    {
     "data": {
      "text/plain": [
       "'\\nSQLite thường được sử dụng để nhúng vào các dự án nhỏ gọn, truy xuất dữ liệu nhanh.\\nSQLite không phải là lựa chọn hoàn hảo để đáp ứng các nhu cầu xử lý trên một khối lượng dữ liệu lớn, phát sinh liên tục.\\n'"
      ]
     },
     "execution_count": 8,
     "metadata": {},
     "output_type": "execute_result"
    }
   ],
   "source": [
    "\n",
    "#1.SQLite là gì?\n",
    "'''\n",
    "SQLite là một hệ quản trị cơ sở dữ liệu quan hệ nhỏ gọn. \n",
    "Nó là một thư viện phần mềm mà triển khai một SQL Database Engine truyền thống, không cần mô hình client-server. \n",
    "SQLite được sử dụng vào rất nhiều chương trình từ desktop đến mobile hay là website.\n",
    "'''\n",
    "\n",
    "#2.Các bước cơ bản để kết nối chương trình Python với CSDL SQLite:\n",
    "'''\n",
    "- Import mô-đun sqlite3.\n",
    "- Tạo đối tượng kết nối Python với SQLite.\n",
    "- Tạo một đối tượng con trỏ.\n",
    "- Thực hiện truy vấn.\n",
    "'''\n",
    "\n",
    "#3.Sự khác nhau giữa SQL và SQLite:\n",
    "'''\n",
    "SQL là một Hệ thống quản lý cơ sở dữ liệu quan hệ, trong khi SQLite là một thư viện phần mềm. \n",
    "SQL có nhiều tính năng nâng cao hơn và phù hợp với cơ sở dữ liệu lớn hơn, trong khi SQLite nhẹ và lý tưởng cho cơ sở dữ liệu nhỏ hơn.\n",
    "'''\n",
    "\n",
    "#4.Ưu điểm của hệ quản trị CSDL SQLite:\n",
    "'''\n",
    "SQLite không cần mô hình client-server để hoạt động.\n",
    "SQLite không cần phải cấu hình tức là bạn không cần phải cài đặt.\n",
    "Với SQLite, database được lưu trữ trên một tập tin duy nhất.\n",
    "SQLite hỗ trợ hầu hết các tính năng của ngôn ngữ truy vấn SQL theo chuẩn SQL.\n",
    "'''\n",
    "\n",
    "#5.Khi nào nên sử dụng SQLite và khi nào không sử dụng SQLite:\n",
    "'''\n",
    "SQLite thường được sử dụng để nhúng vào các dự án nhỏ gọn, truy xuất dữ liệu nhanh.\n",
    "SQLite không phải là lựa chọn hoàn hảo để đáp ứng các nhu cầu xử lý trên một khối lượng dữ liệu lớn, phát sinh liên tục.\n",
    "'''"
   ]
  }
 ],
 "metadata": {
  "kernelspec": {
   "display_name": "Python 3",
   "language": "python",
   "name": "python3"
  },
  "language_info": {
   "codemirror_mode": {
    "name": "ipython",
    "version": 3
   },
   "file_extension": ".py",
   "mimetype": "text/x-python",
   "name": "python",
   "nbconvert_exporter": "python",
   "pygments_lexer": "ipython3",
   "version": "3.12.0"
  }
 },
 "nbformat": 4,
 "nbformat_minor": 2
}
