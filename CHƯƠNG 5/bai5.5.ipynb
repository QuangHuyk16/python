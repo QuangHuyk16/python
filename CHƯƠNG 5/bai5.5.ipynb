{
 "cells": [
  {
   "cell_type": "code",
   "execution_count": 1,
   "metadata": {},
   "outputs": [
    {
     "name": "stdout",
     "output_type": "stream",
     "text": [
      "All records in 'mytable':\n",
      "(1, 'John', 25)\n",
      "(2, 'Alice', 30)\n",
      "(3, 'Bob', 22)\n",
      "(4, 'Duy', 19)\n",
      "(5, 'Linh', 21)\n",
      "(6, 'Tuan', 25)\n",
      "(7, 'Duy', 19)\n",
      "(8, 'Linh', 21)\n",
      "(9, 'Tuan', 25)\n",
      "(10, 'Duy', 19)\n",
      "(11, 'Linh', 21)\n",
      "(12, 'Tuan', 25)\n"
     ]
    }
   ],
   "source": [
    "import sqlite3\n",
    "\n",
    "def create_and_insert_records():\n",
    "    # Kết nối đến cơ sở dữ liệu SQLite\n",
    "    conn = sqlite3.connect('mydatabase.db')\n",
    "\n",
    "    # Lấy đối tượng con trỏ\n",
    "    cursor = conn.cursor()\n",
    "\n",
    "    # Tạo bảng 'mytable' nếu chưa tồn tại\n",
    "    cursor.execute('''\n",
    "        CREATE TABLE IF NOT EXISTS mytable (\n",
    "            id INTEGER PRIMARY KEY,\n",
    "            name TEXT NOT NULL,\n",
    "            age INTEGER\n",
    "        );\n",
    "    ''')\n",
    "\n",
    "    # Chèn một số bản ghi vào bảng\n",
    "    records_to_insert = [\n",
    "        ('Duy', 19),\n",
    "        ('Linh', 21),\n",
    "        ('Tuan', 25)\n",
    "    ]\n",
    "\n",
    "    cursor.executemany('INSERT INTO mytable (name, age) VALUES (?, ?);', records_to_insert)\n",
    "\n",
    "    # Lưu thay đổi\n",
    "    conn.commit()\n",
    "\n",
    "    # Chọn tất cả các hàng từ bảng\n",
    "    cursor.execute(\"SELECT * FROM mytable\")\n",
    "\n",
    "    # Lấy kết quả truy vấn\n",
    "    all_records = cursor.fetchall()\n",
    "\n",
    "    # In ra tất cả các bản ghi\n",
    "    print(\"All records in 'mytable':\")\n",
    "    for record in all_records:\n",
    "        print(record)\n",
    "\n",
    "    # Đóng kết nối\n",
    "    conn.close()\n",
    "\n",
    "def main():\n",
    "    # Tạo và chèn bản ghi vào bảng\n",
    "    create_and_insert_records()\n",
    "\n",
    "if __name__ == \"__main__\":\n",
    "    main()\n"
   ]
  }
 ],
 "metadata": {
  "kernelspec": {
   "display_name": "base",
   "language": "python",
   "name": "python3"
  },
  "language_info": {
   "codemirror_mode": {
    "name": "ipython",
    "version": 3
   },
   "file_extension": ".py",
   "mimetype": "text/x-python",
   "name": "python",
   "nbconvert_exporter": "python",
   "pygments_lexer": "ipython3",
   "version": "3.11.5"
  }
 },
 "nbformat": 4,
 "nbformat_minor": 2
}
