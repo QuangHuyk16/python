{
 "cells": [
  {
   "cell_type": "code",
   "execution_count": 1,
   "metadata": {},
   "outputs": [
    {
     "name": "stdout",
     "output_type": "stream",
     "text": [
      "Connected to in-memory SQLite database\n"
     ]
    }
   ],
   "source": [
    "import sqlite3\n",
    "\n",
    "def create_in_memory_database():\n",
    "    # Tạo hoặc kết nối đến cơ sở dữ liệu SQLite trong bộ nhớ\n",
    "    conn = sqlite3.connect(':memory:')\n",
    "\n",
    "    # In ra thông báo nếu kết nối thành công\n",
    "    print(\"Connected to in-memory SQLite database\")\n",
    "\n",
    "    # Thực hiện các thao tác khác trên cơ sở dữ liệu nếu cần\n",
    "\n",
    "    # Đóng kết nối (lưu ý: cơ sở dữ liệu sẽ bị mất khi kết nối đóng)\n",
    "    conn.close()\n",
    "\n",
    "def main():\n",
    "    # Tạo kết nối cơ sở dữ liệu trong bộ nhớ\n",
    "    create_in_memory_database()\n",
    "\n",
    "if __name__ == \"__main__\":\n",
    "    main()\n"
   ]
  }
 ],
 "metadata": {
  "kernelspec": {
   "display_name": "base",
   "language": "python",
   "name": "python3"
  },
  "language_info": {
   "codemirror_mode": {
    "name": "ipython",
    "version": 3
   },
   "file_extension": ".py",
   "mimetype": "text/x-python",
   "name": "python",
   "nbconvert_exporter": "python",
   "pygments_lexer": "ipython3",
   "version": "3.11.5"
  }
 },
 "nbformat": 4,
 "nbformat_minor": 2
}
