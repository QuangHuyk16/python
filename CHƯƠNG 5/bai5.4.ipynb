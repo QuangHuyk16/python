{
 "cells": [
  {
   "cell_type": "code",
   "execution_count": 1,
   "metadata": {},
   "outputs": [
    {
     "name": "stdout",
     "output_type": "stream",
     "text": [
      "Tables in the database:\n",
      "mytable\n"
     ]
    }
   ],
   "source": [
    "import sqlite3\n",
    "\n",
    "def list_tables(database_file):\n",
    "    # Kết nối đến cơ sở dữ liệu SQLite\n",
    "    conn = sqlite3.connect(database_file)\n",
    "\n",
    "    # Lấy đối tượng con trỏ\n",
    "    cursor = conn.cursor()\n",
    "\n",
    "    # Thực hiện truy vấn để lấy danh sách bảng\n",
    "    cursor.execute(\"SELECT name FROM sqlite_master WHERE type='table';\")\n",
    "\n",
    "    # Lấy kết quả truy vấn\n",
    "    tables = cursor.fetchall()\n",
    "\n",
    "    # In ra danh sách bảng\n",
    "    print(\"Tables in the database:\")\n",
    "    for table in tables:\n",
    "        print(table[0])\n",
    "\n",
    "    # Đóng kết nối\n",
    "    conn.close()\n",
    "\n",
    "def main():\n",
    "    # Tên tệp cơ sở dữ liệu SQLite\n",
    "    database_file = 'mydatabase.db'\n",
    "\n",
    "    # Liệt kê các bảng trong cơ sở dữ liệu\n",
    "    list_tables(database_file)\n",
    "\n",
    "if __name__ == \"__main__\":\n",
    "    main()\n"
   ]
  }
 ],
 "metadata": {
  "kernelspec": {
   "display_name": "base",
   "language": "python",
   "name": "python3"
  },
  "language_info": {
   "codemirror_mode": {
    "name": "ipython",
    "version": 3
   },
   "file_extension": ".py",
   "mimetype": "text/x-python",
   "name": "python",
   "nbconvert_exporter": "python",
   "pygments_lexer": "ipython3",
   "version": "3.11.5"
  }
 },
 "nbformat": 4,
 "nbformat_minor": 2
}
