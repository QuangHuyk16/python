{
 "cells": [
  {
   "cell_type": "code",
   "execution_count": 1,
   "metadata": {},
   "outputs": [
    {
     "name": "stdout",
     "output_type": "stream",
     "text": [
      "Number of records in 'mytable': 12\n"
     ]
    }
   ],
   "source": [
    "import sqlite3\n",
    "\n",
    "def count_records(table_name):\n",
    "    # Kết nối đến cơ sở dữ liệu SQLite\n",
    "    conn = sqlite3.connect('mydatabase.db')\n",
    "\n",
    "    # Lấy đối tượng con trỏ\n",
    "    cursor = conn.cursor()\n",
    "\n",
    "    # Thực hiện truy vấn để đếm số bản ghi trong bảng\n",
    "    cursor.execute(f\"SELECT COUNT(*) FROM {table_name}\")\n",
    "\n",
    "    # Lấy kết quả truy vấn\n",
    "    count = cursor.fetchone()[0]\n",
    "\n",
    "    # In ra số bản ghi\n",
    "    print(f\"Number of records in '{table_name}': {count}\")\n",
    "\n",
    "    # Đóng kết nối\n",
    "    conn.close()\n",
    "\n",
    "def main():\n",
    "    # Tên bảng cần đếm số bản ghi\n",
    "    table_name = 'mytable'\n",
    "\n",
    "    # Đếm số bản ghi trong bảng\n",
    "    count_records(table_name)\n",
    "\n",
    "if __name__ == \"__main__\":\n",
    "    main()\n"
   ]
  }
 ],
 "metadata": {
  "kernelspec": {
   "display_name": "base",
   "language": "python",
   "name": "python3"
  },
  "language_info": {
   "codemirror_mode": {
    "name": "ipython",
    "version": 3
   },
   "file_extension": ".py",
   "mimetype": "text/x-python",
   "name": "python",
   "nbconvert_exporter": "python",
   "pygments_lexer": "ipython3",
   "version": "3.11.5"
  }
 },
 "nbformat": 4,
 "nbformat_minor": 2
}
