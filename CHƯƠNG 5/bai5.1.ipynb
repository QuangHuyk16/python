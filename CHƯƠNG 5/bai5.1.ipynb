{
 "cells": [
  {
   "cell_type": "code",
   "execution_count": 2,
   "metadata": {},
   "outputs": [
    {
     "name": "stdout",
     "output_type": "stream",
     "text": [
      "Connected to SQLite database\n",
      "SQLite Version: 3.41.2\n"
     ]
    }
   ],
   "source": [
    "import sqlite3\n",
    "\n",
    "def create_database():\n",
    "    # Tạo hoặc kết nối đến cơ sở dữ liệu SQLite (nếu chưa tồn tại, sẽ tạo mới)\n",
    "    conn = sqlite3.connect('mydatabase.db')\n",
    "\n",
    "    # In ra thông báo nếu kết nối thành công\n",
    "    print(\"Connected to SQLite database\")\n",
    "\n",
    "    # Đóng kết nối\n",
    "    conn.close()\n",
    "\n",
    "def print_sqlite_version():\n",
    "    # Kết nối đến cơ sở dữ liệu SQLite\n",
    "    conn = sqlite3.connect('mydatabase.db')\n",
    "\n",
    "    # Lấy đối tượng con trỏ\n",
    "    cursor = conn.cursor()\n",
    "\n",
    "    # Thực hiện truy vấn để lấy phiên bản SQLite\n",
    "    cursor.execute(\"SELECT sqlite_version();\")\n",
    "    version = cursor.fetchone()[0]\n",
    "\n",
    "    # In ra phiên bản SQLite\n",
    "    print(\"SQLite Version:\", version)\n",
    "\n",
    "    # Đóng kết nối\n",
    "    conn.close()\n",
    "\n",
    "# Tạo cơ sở dữ liệu\n",
    "create_database()\n",
    "\n",
    "# In ra phiên bản SQLite\n",
    "print_sqlite_version()\n"
   ]
  }
 ],
 "metadata": {
  "kernelspec": {
   "display_name": "base",
   "language": "python",
   "name": "python3"
  },
  "language_info": {
   "codemirror_mode": {
    "name": "ipython",
    "version": 3
   },
   "file_extension": ".py",
   "mimetype": "text/x-python",
   "name": "python",
   "nbconvert_exporter": "python",
   "pygments_lexer": "ipython3",
   "version": "3.11.5"
  }
 },
 "nbformat": 4,
 "nbformat_minor": 2
}
