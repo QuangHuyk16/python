{
 "cells": [
  {
   "cell_type": "code",
   "execution_count": null,
   "metadata": {},
   "outputs": [],
   "source": [
    "import pandas as pd\n",
    "import numpy as np\n",
    "\n",
    "# Đọc dữ liệu\n",
    "movies = pd.read_csv('ml-latest-small/movies.csv')\n",
    "ratings = pd.read_csv('ml-latest-small/ratings.csv')\n",
    "\n",
    "# Xử lý dữ liệu bị thiếu/ không hợp lệ\n",
    "movies = movies.dropna()\n",
    "ratings = ratings.dropna()\n",
    "\n",
    "# Gộp DataFrame\n",
    "data = pd.merge(movies, ratings)\n",
    "\n",
    "# Lọc dữ liệu theo yêu cầu\n",
    "# Ví dụ: lọc ra các bộ phim có điểm đánh giá trung bình cao hơn 4\n",
    "high_rated_movies = data[data['rating'] > 4]\n",
    "\n",
    "# Thống kê dữ liệu\n",
    "# Ví dụ: thống kê số lượng bộ phim theo thể loại\n",
    "genre_counts = movies['genres'].value_counts()\n",
    "\n",
    "# Parsing Timestamps\n",
    "ratings['timestamp'] = pd.to_datetime(ratings['timestamp'], unit='s')\n",
    "\n",
    "print(high_rated_movies)\n",
    "print(genre_counts)\n"
   ]
  }
 ],
 "metadata": {
  "language_info": {
   "name": "python"
  }
 },
 "nbformat": 4,
 "nbformat_minor": 2
}
