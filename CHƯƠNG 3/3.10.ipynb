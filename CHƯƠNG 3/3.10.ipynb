{
 "cells": [
  {
   "cell_type": "code",
   "execution_count": null,
   "metadata": {},
   "outputs": [],
   "source": [
    "import numpy as np\n",
    "import pandas as pd\n",
    "#1. Đọc dữ liệu từ tập tin drinks.csv với index_col là cột đầu tiên của dữ liệu, và lưu vào biến drink. \n",
    "with open(\"drinks.csv \",'r') as drinks_file:\n",
    "    drink = (line.strip().split('\\n') for line in drinks_file.readline())\n",
    "drinks_file.close()\n",
    "\n",
    "drink = np.insert(drink,colums = 'index_col')\n",
    "print(drink)\n",
    "\n",
    "#Cho biết kiểu dữ liệu (type), kích thước (shape) của drink\n",
    "type = np.type(drink)\n",
    "print(\"Kiểu dữ liệu của drink là: \",type)\n",
    "shape = np.shape(drink)\n",
    "print(\"Kích thước của drink là: \",shape)\n",
    "#Hiển thị tên các cột (columns) của drink.\n",
    "print(drink[colums])\n",
    "#Xem 5 dòng dữ liệu đầu tiên (head) và cuối cùng (tail) của drink.\n",
    "head = np.head(drink[0:5])\n",
    "print(\"5 dòng dữ liệu đầu tiên của drink là: \",head)\n",
    "tail = np.tail(drink[-1:-5])\n",
    "print(\"5 dòng dữ liệu cuối cùng của drink là: \",tail)\n"
   ]
  },
  {
   "cell_type": "code",
   "execution_count": null,
   "metadata": {},
   "outputs": [],
   "source": [
    "#2. Cho biết số lượng bia tiêu thụ trung bình ở mỗi châu lục.\n",
    "print(\"Số lượng bia tiêu thụ trung bình ở mỗi châu lục:\\n\", drinks.groupby('continent')['beer_servings'].mean())"
   ]
  },
  {
   "cell_type": "code",
   "execution_count": null,
   "metadata": {},
   "outputs": [],
   "source": [
    "#3. Cho biết thông tin thống kê tổng quát (describe) số lượng rượu vang được tiêu thụ ở mỗi châu lục\n",
    "print(\"Thông tin thống kê tổng quát số lượng rượu vang được tiêu thụ ở mỗi châu lục:\\n\", drinks.groupby('continent')['wine_servings'].describe())"
   ]
  },
  {
   "cell_type": "code",
   "execution_count": null,
   "metadata": {},
   "outputs": [],
   "source": [
    "#4. Cho biết số lượng các loại bia và rượu tiêu thụ trung bình (mean) ở mỗi châu lục.\n",
    "print(\"Số lượng các loại bia và rượu tiêu thụ trung bình ở mỗi châu lục:\\n\", drinks.groupby('continent')[['beer_servings', 'spirit_servings', 'wine_servings']].mean())"
   ]
  },
  {
   "cell_type": "code",
   "execution_count": null,
   "metadata": {},
   "outputs": [],
   "source": [
    "#5. Cho biết giá trị trung vị (median) cho các loại bia và rượu tiêu thụ ở mỗi châu lục.\n",
    "print(\"Giá trị trung vị cho các loại bia và rượu tiêu thụ ở mỗi châu lục:\\n\", drinks.groupby('continent')[['beer_servings', 'spirit_servings', 'wine_servings']].median())"
   ]
  },
  {
   "cell_type": "code",
   "execution_count": null,
   "metadata": {},
   "outputs": [],
   "source": [
    "#6. Cho biết số lượng rượu mạnh (spirit_servings) tiêu thụ trung bình, lớn nhất và nhỏ nhất ở mỗi châu lục\n",
    "TB = np.mean(spirit_servings)\n",
    "print(TB)\n",
    "LN = np.maximum(spirit_servings)\n",
    "print(LN)\n",
    "NN = np.minimum(spirit_servings)\n",
    "print(NN)"
   ]
  },
  {
   "cell_type": "code",
   "execution_count": null,
   "metadata": {},
   "outputs": [],
   "source": [
    "#7. Sắp xếp dữ liệu tăng dần (sort_values) theo số lượng bia tiêu thụ.\n",
    "#Cho biết 5 quốc gia có lượng tiêu thụ bia nhiều nhất\n",
    "drinks_sorted = drinks.sort_values('beer_servings')\n",
    "print(\"5 quốc gia có lượng tiêu thụ bia nhiều nhất:\\n\", drinks_sorted['beer_servings'].tail(5))\n",
    "#Cho biết 5 quốc gia có lượng tiêu thụ bia ít nhất\n",
    "print(\"5 quốc gia có lượng tiêu thụ bia ít nhất:\\n\", drinks_sorted['beer_servings'].head(5))"
   ]
  }
 ],
 "metadata": {
  "kernelspec": {
   "display_name": "Python 3",
   "language": "python",
   "name": "python3"
  },
  "language_info": {
   "codemirror_mode": {
    "name": "ipython",
    "version": 3
   },
   "file_extension": ".py",
   "mimetype": "text/x-python",
   "name": "python",
   "nbconvert_exporter": "python",
   "pygments_lexer": "ipython3",
   "version": "3.11.5"
  }
 },
 "nbformat": 4,
 "nbformat_minor": 2
}
