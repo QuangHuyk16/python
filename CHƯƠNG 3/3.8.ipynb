{
 "cells": [
  {
   "cell_type": "code",
   "execution_count": 7,
   "metadata": {},
   "outputs": [],
   "source": [
    "import numpy as np"
   ]
  },
  {
   "cell_type": "code",
   "execution_count": null,
   "metadata": {},
   "outputs": [],
   "source": [
    "with open(\"positions.txt\",'r') as positions_file:\n",
    "    positions = [line.strip().split('\\n') for line in positions_file.readlines()]\n",
    "\n",
    "with open(\"heights.txt\",'r') as heights_file:\n",
    "    heights = [line.strip().split('\\n') for line in heights_file.readlines()]"
   ]
  },
  {
   "cell_type": "code",
   "execution_count": null,
   "metadata": {},
   "outputs": [],
   "source": [
    "#1\n",
    "#a.Tạo numpy array np_positions từ list positions. Xem kiểu dữ liệu của np_posotions\n",
    "np_positions = np.dtype(positions)\n",
    "print(np_positions)\n",
    "#b.Tạo numpy array np_heights từ list heights. Xem kiểu dữ liệu của np_heights\n",
    "np_heights = np.dtype(heights)\n",
    "print(np_heights)"
   ]
  },
  {
   "cell_type": "code",
   "execution_count": null,
   "metadata": {},
   "outputs": [],
   "source": [
    "#2. Tính chiều cao trung bình của các GK.\n",
    "average_heights_GK = np.mean(heights[:,0])\n",
    "average_heights_GK"
   ]
  },
  {
   "cell_type": "code",
   "execution_count": null,
   "metadata": {},
   "outputs": [],
   "source": [
    "#3. Tính chiều cao trung bình của những vị trí khác (Không phải là GK).\n",
    "average_heights_M = np.mean(heights[:,1])\n",
    "print(average_heights_M)\n",
    "average_heights_A = np.mean(heights[:,2])\n",
    "print(average_heights_A)\n",
    "average_heights_D = np.mean(heights[:,3])\n",
    "print(average_heights_D)"
   ]
  },
  {
   "cell_type": "code",
   "execution_count": null,
   "metadata": {},
   "outputs": [],
   "source": [
    "#4. Tạo mảng dữ liệu có cấu trúc tự định nghĩa players gồm 'position' kiểu văn bản (U5) và 'height' kiểu 'float'.\n",
    "players_position = positions(dtype = 'U5')\n",
    "players_height = float(heights)"
   ]
  },
  {
   "cell_type": "code",
   "execution_count": null,
   "metadata": {},
   "outputs": [],
   "source": [
    "#5. Sắp mảng players theo height, cho biết vị trí có chiều cao cao nhất và chiều cao thấp nhất.\n",
    "arr_height_max = np.max(players_height)\n",
    "arr_height_max = np.min(players_height)"
   ]
  }
 ],
 "metadata": {
  "kernelspec": {
   "display_name": "Python 3",
   "language": "python",
   "name": "python3"
  },
  "language_info": {
   "codemirror_mode": {
    "name": "ipython",
    "version": 3
   },
   "file_extension": ".py",
   "mimetype": "text/x-python",
   "name": "python",
   "nbconvert_exporter": "python",
   "pygments_lexer": "ipython3",
   "version": "3.11.5"
  }
 },
 "nbformat": 4,
 "nbformat_minor": 2
}
