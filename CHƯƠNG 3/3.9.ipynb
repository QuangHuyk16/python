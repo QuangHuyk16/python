{
 "cells": [
  {
   "cell_type": "code",
   "execution_count": null,
   "metadata": {},
   "outputs": [],
   "source": [
    "import numpy as np\n",
    "import pandas as pd\n",
    "\n",
    "with open(\"euro2012.csv\") as f:\n",
    "    euro_12 = for line in f.readline()\n",
    "\n",
    "f.close()\n",
    "euro12 = pd.DataFrame(euro_12)\n",
    "print(euro12)\n",
    "type = np.dtype(euro12)\n",
    "print(\"Kiểu dữ liệu euro 12 là: \",type)\n",
    "shape = np.shape(euro12)\n",
    "print(\"Kích thước euro 12 là: \",shape)\n",
    "print(euro12.columns)\n"
   ]
  },
  {
   "cell_type": "code",
   "execution_count": null,
   "metadata": {},
   "outputs": [],
   "source": [
    "#1. In giá trị cột Goals\n",
    "print(\"Cột Goals \",euro12[Goals])"
   ]
  },
  {
   "cell_type": "code",
   "execution_count": null,
   "metadata": {},
   "outputs": [],
   "source": [
    "#2. Có bao nhiêu đội tham gia Euro2012?\n"
   ]
  },
  {
   "cell_type": "code",
   "execution_count": null,
   "metadata": {},
   "outputs": [],
   "source": [
    "#3. In thông tin của Euro2012."
   ]
  },
  {
   "cell_type": "code",
   "execution_count": null,
   "metadata": {},
   "outputs": [],
   "source": [
    "#4. Tạo 1 data frame mới từ euro12 có tên là discipline chỉ chứa 3 cột 'Team', 'Yellow Cards', 'Red Cards'.\n",
    "discipline = pd.DataFrame(euro12, colums=['Team','Yellow Cards',\"Red Cards\"])\n",
    "print(discipline)"
   ]
  },
  {
   "cell_type": "code",
   "execution_count": null,
   "metadata": {},
   "outputs": [],
   "source": [
    "#5. Sắp xếp discipline giảm dần theo 2 cột 'Red Cards', 'Yellow Cards'.\n",
    "a = discipline.sorted(:,0)\n",
    "a = discipline.sorted(:,1)\n",
    "print(a)\n",
    "print(b)"
   ]
  },
  {
   "cell_type": "code",
   "execution_count": null,
   "metadata": {},
   "outputs": [],
   "source": [
    "#6. \n",
    "#a) Tính trung bình Yellow Cards.\n",
    "Yellow_Cards = np.mean(discipline[:,1])\n",
    "print(Yellow_Cards)\n",
    "#b) Lọc các đội đã ghi hơn 6 bàn thắng.\n",
    "b = discipline(Goals > 6)\n",
    "print(b)"
   ]
  },
  {
   "cell_type": "code",
   "execution_count": null,
   "metadata": {},
   "outputs": [],
   "source": [
    "#7. In các đội mà tên bắt đầu bằng 'G' (gợi ý: dùng str.startswith()).\n",
    "c = discipline.starwith(G)\n",
    "c"
   ]
  },
  {
   "cell_type": "code",
   "execution_count": null,
   "metadata": {},
   "outputs": [],
   "source": [
    "#8. In 7 cột đầu của euro12.\n",
    "d = euro12[0:7]\n",
    "d"
   ]
  },
  {
   "cell_type": "code",
   "execution_count": null,
   "metadata": {},
   "outputs": [],
   "source": [
    "#9. In tất cả các cột, trừ 3 cột cuối.\n",
    "e = euro12[-3:]\n",
    "e"
   ]
  },
  {
   "cell_type": "code",
   "execution_count": null,
   "metadata": {},
   "outputs": [],
   "source": [
    "#10. In các cột Team, Goals, Shooting Accuracy, Yellow Cards, Red Cards.\n",
    "f = pd.DataFrame[euro12,'Team, Goals, Shooting Accuracy, Yellow Cards, Red Cards.']\n",
    "f"
   ]
  },
  {
   "cell_type": "code",
   "execution_count": null,
   "metadata": {},
   "outputs": [],
   "source": [
    "#11. In các cột chỉ hiển thị 'Team','Shooting Accuracy' từ 'England', 'Italy', 'Russia'.\n",
    "g = pd.DataFrame(euro12,colums = ['Team, Shooting Accuracy']).index('England', 'Italy', 'Russia'3.10.ipynb)\n",
    "g"
   ]
  }
 ],
 "metadata": {
  "kernelspec": {
   "display_name": "Python 3",
   "language": "python",
   "name": "python3"
  },
  "language_info": {
   "codemirror_mode": {
    "name": "ipython",
    "version": 3
   },
   "file_extension": ".py",
   "mimetype": "text/x-python",
   "name": "python",
   "nbconvert_exporter": "python",
   "pygments_lexer": "ipython3",
   "version": "3.11.5"
  }
 },
 "nbformat": 4,
 "nbformat_minor": 2
}
