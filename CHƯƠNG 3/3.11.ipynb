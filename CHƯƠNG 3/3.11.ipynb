{
 "cells": [
  {
   "cell_type": "code",
   "execution_count": null,
   "metadata": {},
   "outputs": [],
   "source": [
    "import numpy as np\n",
    "import pandas as pd\n",
    "\n",
    "#1. \n",
    "#a) Đọc file stocks1.csv => đưa dữ liệu vào stocks1.\n",
    "with open(\"stocks1.csv\",'r') as stocks_1_file:\n",
    "    stocks1 = float(line.strip().split('\\n') for line in stocks_1_file())\n",
    "stocks_1_file.close()\n",
    "#Hiển thị 5 dòng dữ liệu đầu và cuối của stocks1.\n",
    "data_head_1 = stocks1[0:5]\n",
    "print(\"5 dữ liệu đầu của stocks1 là: \",data_head_1)\n",
    "data_tail_1 = stocks1[-5:-1]\n",
    "print(\"5 dữ liệu cuối của stocks1 là: \",data_tail_1)\n",
    "#Cho biết kiểu dữ liệu (dtype) của các cột của stocks1.\n",
    "colums_stocks_1 = np.copy(stocks1,colums[::])\n",
    "dtype_colums_1 = np.dtype(colums_stocks_1)\n",
    "print(dtype_colums_1)\n",
    "#Xem thông tin (info) của stocks1.\n",
    "info_1 = stocks1.read()\n",
    "print(infor_1)\n",
    "\n",
    "#b) Đọc file stocks2.csv => đưa dữ liệu vào stocks2.\n",
    "with open(\"stocks2.csv\",'r') as stocks_2_file:\n",
    "    stocks2 = float(line.strip().split('\\n') for line in stocks_2_file())\n",
    "stocks_2_file.close()\n",
    "#Hiển thị 5 dòng dữ liệu đầu và cuối của stocks1.\n",
    "data_head_2 = stocks2[0:5]\n",
    "print(\"5 dữ liệu đầu của stocks1 là: \",data_head_2)\n",
    "data_tail_2 = stocks2[-5:-1]\n",
    "print(\"5 dữ liệu cuối của stocks1 là: \",data_tail_2)\n",
    "#Cho biết kiểu dữ liệu (dtype) của các cột của stocks1.\n",
    "colums_stocks_2 = np.copy(stocks2,colums[::])\n",
    "dtype_colums_2 = np.dtype(colums_stocks_2)\n",
    "print(dtype_colums_2)\n",
    "#Xem thông tin (info) của stocks1.\n",
    "info_2 = stocks2.read()\n",
    "print(infor_2)\n",
    "\n",
    "#c) Đọc file companies.csv => đưa dữ liệu vào companies\n",
    "with open(\"companies.csv\",'r') as companies_file:\n",
    "    companies = float(line.strip().split('\\n') for line in companies_file())\n",
    "companies_file.close()\n",
    "#Xem dữ liệu của companies.\n",
    "dtype_companies = np.dtype(companies)\n",
    "print(\"Kiểu dữ liệu companies là: \",dtype_companies)\n",
    "#Cho biết kiểu dữ liệu (dtype) của các cột của companies.\n",
    "colums_companies = np.copy(companies,colums[::])\n",
    "dtype_companies = np.dtype(colums_companies)\n",
    "print(dtype_companies)\n",
    "#Xem thông tin (info) của companies.\n",
    "info = companies.read()\n",
    "print(infor)"
   ]
  },
  {
   "cell_type": "code",
   "execution_count": null,
   "metadata": {},
   "outputs": [],
   "source": [
    "#2. Cho biết trong stocks1 có dữ liệu Null hay không? Nếu có, hãy thay thế với quy  tắc sau:\n",
    "#Nếu Null cột high thì thay bằng giá trị max trên cột high của mã chứng khoán đó.\n",
    "null_high = np.isnan(stocks1,colums='high')\n",
    "bool_high= nul_high.any()\n",
    "print(\"Cột high có dữ liệu Null: \",bool_high)\n",
    "colums_high = np.copy(stocks1,colums[::])\n",
    "max_high = np.maximum(colums_high)\n",
    "colums_high['Null'] = colums_high['0']\n",
    "maximum_high = np.insert()\n",
    "null_high['True'] = \n",
    "\n",
    "#Nếu Null cột low thì thay bằng giá trị min trên cột low của mã chứng khoán đó.\n"
   ]
  },
  {
   "cell_type": "code",
   "execution_count": null,
   "metadata": {},
   "outputs": [],
   "source": [
    "#3. Tạo dataframe stocks bằng cách gộp stocks1 và stocks2 theo dòng. Xem 15 dòng dữ liệu cuối của stocks.\n",
    "stocks = pd.DataFrame({'stocks1':stocks1,'stocks2':stocks2})\n",
    "stocks[-15:]"
   ]
  },
  {
   "cell_type": "code",
   "execution_count": null,
   "metadata": {},
   "outputs": [],
   "source": [
    "#4. Tạo dataframe stocks_companies bằng cách gộp stocks và companies.Xem 5 dòng dữ liệu đầu của stocks_companies.   \n",
    "stocks_companies = pd.DataFrame({'stocks1':stocks1,'companies':companies})\n",
    "stocks_companies[:5]"
   ]
  },
  {
   "cell_type": "code",
   "execution_count": null,
   "metadata": {},
   "outputs": [],
   "source": [
    "#5. Cho biết giá (open, high, low, close) trung bình và volume trung bình của mỗi công ty."
   ]
  },
  {
   "cell_type": "code",
   "execution_count": null,
   "metadata": {},
   "outputs": [],
   "source": [
    "#6. Cho biết giá đóng cửa (close) trung bình, lớn nhất và nhỏ nhất ở mỗi công ty"
   ]
  },
  {
   "cell_type": "code",
   "execution_count": null,
   "metadata": {},
   "outputs": [],
   "source": [
    "#7. Tạo cột parsed_time trong stocks_companies bằng cách đổi thời gian sang định dạng DateTime. Cho biết kiểu dữ liệu của cột parsed_time. Hiển thị 5 dòng dữliệu đầu của stocks_companies."
   ]
  },
  {
   "cell_type": "code",
   "execution_count": null,
   "metadata": {},
   "outputs": [],
   "source": [
    "#8. Thêm cột result, nếu giá 'close' > 'open' thì cột result có giá trị 'up', ngược lại 'down'."
   ]
  }
 ],
 "metadata": {
  "kernelspec": {
   "display_name": "Python 3",
   "language": "python",
   "name": "python3"
  },
  "language_info": {
   "codemirror_mode": {
    "name": "ipython",
    "version": 3
   },
   "file_extension": ".py",
   "mimetype": "text/x-python",
   "name": "python",
   "nbconvert_exporter": "python",
   "pygments_lexer": "ipython3",
   "version": "3.11.5"
  }
 },
 "nbformat": 4,
 "nbformat_minor": 2
}
