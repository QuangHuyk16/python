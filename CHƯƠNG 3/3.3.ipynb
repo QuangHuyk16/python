{
 "cells": [
  {
   "cell_type": "code",
   "execution_count": 4,
   "metadata": {},
   "outputs": [],
   "source": [
    "import numpy as np\n",
    "\n",
    "arr_a = np.array([1,2,3,2,3,4,3,4,5,6])\n",
    "arr_b = np.array([7,2,10,2,7,4,9,4,9,8])"
   ]
  },
  {
   "cell_type": "code",
   "execution_count": 5,
   "metadata": {},
   "outputs": [
    {
     "name": "stdout",
     "output_type": "stream",
     "text": [
      "arr_c:  [2 4]\n"
     ]
    }
   ],
   "source": [
    "#1 \n",
    "arr_c = np.intersect1d(arr_a,arr_b)\n",
    "print(\"arr_c: \",arr_c)"
   ]
  },
  {
   "cell_type": "code",
   "execution_count": 6,
   "metadata": {},
   "outputs": [
    {
     "name": "stdout",
     "output_type": "stream",
     "text": [
      "arr_d:  [1 3 5 6]\n"
     ]
    }
   ],
   "source": [
    "#2\n",
    "arr_d = np.setdiff1d(arr_a,arr_b)\n",
    "print(\"arr_d: \",arr_d)"
   ]
  },
  {
   "cell_type": "code",
   "execution_count": 8,
   "metadata": {},
   "outputs": [
    {
     "name": "stdout",
     "output_type": "stream",
     "text": [
      "arr_f:  [ 6  9 10  8  6]\n"
     ]
    }
   ],
   "source": [
    "#3\n",
    "arr_e = np.array([2, 6, 1, 9, 10, 3, 27, 8, 6, 25, 16])\n",
    "arr_f = arr_e[(arr_e >= 5) & (arr_e <= 10)]\n",
    "print(\"arr_f: \",arr_f)\n"
   ]
  }
 ],
 "metadata": {
  "kernelspec": {
   "display_name": "Python 3",
   "language": "python",
   "name": "python3"
  },
  "language_info": {
   "codemirror_mode": {
    "name": "ipython",
    "version": 3
   },
   "file_extension": ".py",
   "mimetype": "text/x-python",
   "name": "python",
   "nbconvert_exporter": "python",
   "pygments_lexer": "ipython3",
   "version": "3.11.5"
  }
 },
 "nbformat": 4,
 "nbformat_minor": 2
}
