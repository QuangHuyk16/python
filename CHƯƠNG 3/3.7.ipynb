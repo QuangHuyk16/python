{
 "cells": [
  {
   "cell_type": "code",
   "execution_count": 1,
   "metadata": {},
   "outputs": [],
   "source": [
    "import numpy as np"
   ]
  },
  {
   "cell_type": "code",
   "execution_count": null,
   "metadata": {},
   "outputs": [],
   "source": [
    "with open('baseball_2D.txt', 'r') as baseball_file:\n",
    "    baseball = [[float(line.strip().split(\"\\t\")[3]), float(line.strip().split(\"\\t\")[4])] for line in baseball_file.readlines()]\n",
    "\n",
    "baseball_file.close()\n",
    "print(baseball)"
   ]
  },
  {
   "cell_type": "code",
   "execution_count": null,
   "metadata": {},
   "outputs": [],
   "source": [
    "# 1. Tạo 2D numpy array tên np_baseball từ baseball. Xem kiểu dữ liệu và kích thước của np_baseball.\n",
    "np_baseball = np.array(baseball)\n",
    "print(\"np_baseball: \",np_baseball)\n",
    "np_baseball = np.dtype(baseball)\n",
    "print(\"Kiểu dữ liệu np_baseball: \",np_baseball)\n",
    "np_baseball = np.shape(baseball)\n",
    "print(\"Kích thước np_baseball: \",np_baseball)"
   ]
  },
  {
   "cell_type": "code",
   "execution_count": 4,
   "metadata": {},
   "outputs": [
    {
     "name": "stdout",
     "output_type": "stream",
     "text": [
      "[ 70. 195.]\n"
     ]
    }
   ],
   "source": [
    "# 2. In các giá trị của dòng thứ 50 trong np_baseball.\n",
    "print(np_baseball[50,:])"
   ]
  },
  {
   "cell_type": "code",
   "execution_count": 5,
   "metadata": {},
   "outputs": [
    {
     "name": "stdout",
     "output_type": "stream",
     "text": [
      "[180. 215. 210. ... 205. 190. 195.]\n",
      "195.0\n"
     ]
    }
   ],
   "source": [
    "#3. Tạo numpy array np_weight với dữ liệu được lấy từ cột hai của np_baseball.\n",
    "np_weight = np.array(np_baseball[:,1])\n",
    "print(np_weight)\n",
    "print(np_weight[50])"
   ]
  },
  {
   "cell_type": "code",
   "execution_count": 6,
   "metadata": {},
   "outputs": [
    {
     "name": "stdout",
     "output_type": "stream",
     "text": [
      "80.0\n"
     ]
    }
   ],
   "source": [
    "# 4. Cho biết chiều cao của vận động viên thứ 124.\n",
    "print(np_baseball[124,0])"
   ]
  },
  {
   "cell_type": "code",
   "execution_count": 7,
   "metadata": {},
   "outputs": [
    {
     "name": "stdout",
     "output_type": "stream",
     "text": [
      "Chiều cao trung bình:  73.69893514036787\n",
      "Cân nặng trung bình:  201.6892545982575\n"
     ]
    }
   ],
   "source": [
    "# 5. Cho biết chiều cao trung bình, cân nặng trung bình của các cầu thủ.\n",
    "average_height = np.mean(np_baseball[:,0])\n",
    "average_weight = np.mean(np_baseball[:,1])\n",
    "print(\"Chiều cao trung bình: \", average_height)\n",
    "print(\"Cân nặng trung bình: \", average_weight)"
   ]
  },
  {
   "cell_type": "code",
   "execution_count": 8,
   "metadata": {},
   "outputs": [
    {
     "name": "stdout",
     "output_type": "stream",
     "text": [
      "tương quan thuận\n"
     ]
    }
   ],
   "source": [
    "# 6. Bạn nhận xét gì về mối tương quan giữa chiều cao và cân nặng của các cầu thủ: có/không có tương quan, tương quan thuận/nghịch.\n",
    "correlation = np.corrcoef(np_baseball[:,0],np_baseball[:,1])[0, 1]\n",
    "\n",
    "if correlation > 0:\n",
    "    correlation_type = \"tương quan thuận\"\n",
    "elif correlation < 0:\n",
    "    correlation_type = \"tương quan nghịch\"\n",
    "else:\n",
    "    correlation_type = \"không có tương quan\"\n",
    "print(correlation_type)"
   ]
  }
 ],
 "metadata": {
  "kernelspec": {
   "display_name": "base",
   "language": "python",
   "name": "python3"
  },
  "language_info": {
   "codemirror_mode": {
    "name": "ipython",
    "version": 3
   },
   "file_extension": ".py",
   "mimetype": "text/x-python",
   "name": "python",
   "nbconvert_exporter": "python",
   "pygments_lexer": "ipython3",
   "version": "3.11.5"
  }
 },
 "nbformat": 4,
 "nbformat_minor": 2
}
