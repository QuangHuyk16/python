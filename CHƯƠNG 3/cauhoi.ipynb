{
 "cells": [
  {
   "cell_type": "code",
   "execution_count": 5,
   "metadata": {},
   "outputs": [
    {
     "data": {
      "text/plain": [
       "'\\nNumerical Python(Numpy) là một thư viện Python được sử dụng để làm việc với mảng.\\nNó cung cấp một đối tượng mảng đa chiều, cũng như các biến thể như mặt nạ và ma trận, các phép toán toán học trên các kiểu dữ liệu số.\\nNumPy còn cung cấp các hàm để làm việc hiệu quả với các mảng này\\n\\nTrong Python, chúng ta có danh sách phục vụ mục đích của mảng, nhưng chúng được xử lý chậm. \\nNumPy nhằm cung cấp một đối tượng mảng nhanh hơn đến 50 lần so với danh sách Python truyền thống. \\nCác quá trình truy cập và thao tác Numpy rất hiệu quả vì mảng NumPy được lưu trữ tại một vị trí liên tục trong bộ nhớ khác với danh sách\\nNgoài ra, nó còn được tối ưu hóa để làm việc với các kiến trúc CPU mới nhất\\n'"
      ]
     },
     "execution_count": 5,
     "metadata": {},
     "output_type": "execute_result"
    }
   ],
   "source": [
    "#1.Numpy là gì? Tại sao chúng ta sử dụng Numpy?\n",
    "\n",
    "'''\n",
    "Numerical Python(Numpy) là một thư viện Python được sử dụng để làm việc với mảng.\n",
    "Nó cung cấp một đối tượng mảng đa chiều, cũng như các biến thể như mặt nạ và ma trận, các phép toán toán học trên các kiểu dữ liệu số.\n",
    "NumPy còn cung cấp các hàm để làm việc hiệu quả với các mảng này\n",
    "\n",
    "Trong Python, chúng ta có danh sách phục vụ mục đích của mảng, nhưng chúng được xử lý chậm. \n",
    "NumPy nhằm cung cấp một đối tượng mảng nhanh hơn đến 50 lần so với danh sách Python truyền thống. \n",
    "Các quá trình truy cập và thao tác Numpy rất hiệu quả vì mảng NumPy được lưu trữ tại một vị trí liên tục trong bộ nhớ khác với danh sách\n",
    "Ngoài ra, nó còn được tối ưu hóa để làm việc với các kiến trúc CPU mới nhất\n",
    "'''"
   ]
  },
  {
   "cell_type": "code",
   "execution_count": 6,
   "metadata": {},
   "outputs": [
    {
     "data": {
      "text/plain": [
       "'\\n1.Hiệu suất\\n2.Tiết kiệm bộ nhớ\\n3.Tích hợp với nhiều thư viện khác\\n4.Phù hợp với nhiều dữ liệu\\n'"
      ]
     },
     "execution_count": 6,
     "metadata": {},
     "output_type": "execute_result"
    }
   ],
   "source": [
    "#2. Tạo sao NumPy được yêu thích hơn một số công cụ xử lý mảng rất mạnh khác?\n",
    "\n",
    "'''\n",
    "1.Hiệu suất\n",
    "2.Tiết kiệm bộ nhớ\n",
    "3.Tích hợp với nhiều thư viện khác\n",
    "4.Phù hợp với nhiều dữ liệu\n",
    "'''"
   ]
  },
  {
   "cell_type": "code",
   "execution_count": 7,
   "metadata": {},
   "outputs": [
    {
     "data": {
      "text/plain": [
       "'Như câu 2 '"
      ]
     },
     "execution_count": 7,
     "metadata": {},
     "output_type": "execute_result"
    }
   ],
   "source": [
    "#3. Mảng NumPy tốt hơn danh sách (List) của Python như thế nào?\n",
    "'''Như câu 2 '''"
   ]
  },
  {
   "cell_type": "code",
   "execution_count": 8,
   "metadata": {},
   "outputs": [
    {
     "data": {
      "text/plain": [
       "'Mảng đa chiều'"
      ]
     },
     "execution_count": 8,
     "metadata": {},
     "output_type": "execute_result"
    }
   ],
   "source": [
    "#4. Ndarray trong NumPy là gì?\n",
    "'''Mảng đa chiều'''"
   ]
  },
  {
   "cell_type": "code",
   "execution_count": 9,
   "metadata": {},
   "outputs": [],
   "source": [
    "#5. Nêu các cách tạo mảng 1D, 2D và 3D trong NumPy?\n",
    "import numpy as np\n",
    "a1D = np.array([1, 2, 3, 4])\n",
    "a2D = np.array([[1, 2], [3, 4]])\n",
    "a3D = np.array([[[1, 2], [3, 4]], [[5, 6], [7, 8]]])"
   ]
  },
  {
   "cell_type": "code",
   "execution_count": 10,
   "metadata": {},
   "outputs": [
    {
     "name": "stdout",
     "output_type": "stream",
     "text": [
      "int32\n"
     ]
    }
   ],
   "source": [
    "#6. Làm cách nào để biết được kiểu dữ liệu của các phần tử được lưu trữ trong mảng NumPy?\n",
    "import numpy as np\n",
    "arr = np.array([1, 2, 3, 4])\n",
    "print(arr.dtype)"
   ]
  },
  {
   "cell_type": "code",
   "execution_count": 11,
   "metadata": {},
   "outputs": [
    {
     "name": "stdout",
     "output_type": "stream",
     "text": [
      "Mảng đảo ngược: [5 4 3 2 1]\n"
     ]
    }
   ],
   "source": [
    "#7. Nêu phương pháp (cách) để có thể đảo ngược một mảng NumPy?\n",
    "import numpy as np\n",
    "arr = np.array([1, 2, 3, 4, 5])\n",
    "reversed_arr = arr[::-1]\n",
    "print(\"Mảng đảo ngược:\", reversed_arr)\n"
   ]
  },
  {
   "cell_type": "code",
   "execution_count": 12,
   "metadata": {},
   "outputs": [
    {
     "name": "stdout",
     "output_type": "stream",
     "text": [
      "Mean: 3.0\n",
      "Average: 3.0\n"
     ]
    }
   ],
   "source": [
    "#8. Hãy so sánh np.mean() khác với np.average() trong NumPy như thế nào?\n",
    "import numpy as np\n",
    "arr = np.array([1, 2, 3, 4, 5])\n",
    "mean = np.mean(arr)\n",
    "average = np.average(arr, weights=[1, 1, 1, 1, 1])\n",
    "print(\"Mean:\", mean)\n",
    "print(\"Average:\", average)"
   ]
  },
  {
   "cell_type": "code",
   "execution_count": 13,
   "metadata": {},
   "outputs": [
    {
     "name": "stdout",
     "output_type": "stream",
     "text": [
      "Tần suất của 2 trong mảng: 6\n"
     ]
    }
   ],
   "source": [
    "#9. Nêu cách xác định (đếm) tần suất xuất hiện của một giá trị dương nhất định trong mảng NumPy?\n",
    "import numpy as np\n",
    "arr = np.array([1, 2, 3, 2, 1, 2, 3, 1, 1, 1, 2, 2, 2])\n",
    "value = 2\n",
    "dem = np.count_nonzero(arr == value)\n",
    "print(\"Tần suất của\", value, \"trong mảng là:\", dem)"
   ]
  },
  {
   "cell_type": "code",
   "execution_count": 14,
   "metadata": {},
   "outputs": [
    {
     "name": "stdout",
     "output_type": "stream",
     "text": [
      "Mảng rỗng\n"
     ]
    }
   ],
   "source": [
    "#10.Hãy cho biết cách để có thể kiểm tra một mảng trống (hoặc mảng không phần tử)?\n",
    "import numpy as np\n",
    "arr = np.array([])\n",
    "if arr.size == 0:\n",
    "    print(\"Mảng rỗng\")\n",
    "else:\n",
    "    print(\"Mảng không rỗng\")"
   ]
  },
  {
   "cell_type": "code",
   "execution_count": 15,
   "metadata": {},
   "outputs": [
    {
     "name": "stdout",
     "output_type": "stream",
     "text": [
      "arr[:,0]: [1 4 7]\n",
      "arr[:,[0]]: [[1]\n",
      " [4]\n",
      " [7]]\n"
     ]
    }
   ],
   "source": [
    "#11.Mảng[:,0] khác với mảng[:,[0]] như thế nào?\n",
    "import numpy as np\n",
    "arr = np.array([[1, 2, 3], [4, 5, 6], [7, 8, 9]])\n",
    "print(\"arr[:,0]:\", arr[:,0])\n",
    "print(\"arr[:,[0]]:\", arr[:,[0]])"
   ]
  },
  {
   "cell_type": "code",
   "execution_count": 16,
   "metadata": {},
   "outputs": [
    {
     "name": "stdout",
     "output_type": "stream",
     "text": [
      "Kết quả nhân hai ma trận:\n",
      " [[ 5 12]\n",
      " [21 32]]\n"
     ]
    }
   ],
   "source": [
    "#12. Trình bày nhân 2 ma trận mảng NumPy?\n",
    "import numpy as np\n",
    "A = np.array([[1, 2], [3, 4]])\n",
    "B = np.array([[5, 6], [7, 8]])\n",
    "C = np.multiply(A, B)\n",
    "print(\"Kết quả nhân hai ma trận:\\n\", C)\n"
   ]
  },
  {
   "cell_type": "code",
   "execution_count": 17,
   "metadata": {},
   "outputs": [
    {
     "name": "stdout",
     "output_type": "stream",
     "text": [
      "Mảng sau khi nối: [1 2 3 4 5 6]\n"
     ]
    }
   ],
   "source": [
    "#13. Trình bày cách nối 2 mảng NumPy?\n",
    "import numpy as np\n",
    "arr1 = np.array([1, 2, 3])\n",
    "arr2 = np.array([4, 5, 6])\n",
    "arr = np.concatenate((arr1, arr2))\n",
    "print(\"Mảng sau khi nối:\", arr)"
   ]
  }
 ],
 "metadata": {
  "kernelspec": {
   "display_name": "Python 3",
   "language": "python",
   "name": "python3"
  },
  "language_info": {
   "codemirror_mode": {
    "name": "ipython",
    "version": 3
   },
   "file_extension": ".py",
   "mimetype": "text/x-python",
   "name": "python",
   "nbconvert_exporter": "python",
   "pygments_lexer": "ipython3",
   "version": "3.11.5"
  }
 },
 "nbformat": 4,
 "nbformat_minor": 2
}
