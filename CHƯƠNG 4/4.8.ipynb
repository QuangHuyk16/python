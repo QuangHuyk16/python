{
 "cells": [
  {
   "cell_type": "code",
   "execution_count": 1,
   "metadata": {},
   "outputs": [
    {
     "name": "stdout",
     "output_type": "stream",
     "text": [
      "Original Series:\n",
      "0     73\n",
      "1     66\n",
      "2     61\n",
      "3     24\n",
      "4     81\n",
      "5     97\n",
      "6     74\n",
      "7     39\n",
      "8      4\n",
      "9     66\n",
      "10    59\n",
      "11    11\n",
      "12    53\n",
      "13    29\n",
      "14    64\n",
      "15    36\n",
      "16    78\n",
      "17    77\n",
      "18     6\n",
      "19    12\n",
      "dtype: int32\n",
      "\n",
      "Deciles:\n",
      "0      Decile 8\n",
      "1      Decile 7\n",
      "2      Decile 6\n",
      "3      Decile 3\n",
      "4     Decile 10\n",
      "5     Decile 10\n",
      "6      Decile 8\n",
      "7      Decile 4\n",
      "8      Decile 1\n",
      "9      Decile 7\n",
      "10     Decile 5\n",
      "11     Decile 2\n",
      "12     Decile 5\n",
      "13     Decile 3\n",
      "14     Decile 6\n",
      "15     Decile 4\n",
      "16     Decile 9\n",
      "17     Decile 9\n",
      "18     Decile 1\n",
      "19     Decile 2\n",
      "dtype: category\n",
      "Categories (10, object): ['Decile 1' < 'Decile 2' < 'Decile 3' < 'Decile 4' ... 'Decile 7' < 'Decile 8' < 'Decile 9' < 'Decile 10']\n"
     ]
    }
   ],
   "source": [
    "import pandas as pd\n",
    "import numpy as np\n",
    "\n",
    "# Tạo một Series có 20 phần tử, mỗi phần tử là một số nguyên ngẫu nhiên.\n",
    "ser = pd.Series(np.random.randint(1, 100, 20))\n",
    "\n",
    "# Chia chuỗi dữ liệu thành 10 phân vị bằng nhau và gán nhãn tương ứng\n",
    "deciles = pd.qcut(ser, q=10, labels=[f'Decile {i}' for i in range(1, 11)])\n",
    "\n",
    "# Hiển thị kết quả\n",
    "print(\"Original Series:\")\n",
    "print(ser)\n",
    "\n",
    "print(\"\\nDeciles:\")\n",
    "print(deciles)\n"
   ]
  }
 ],
 "metadata": {
  "kernelspec": {
   "display_name": "base",
   "language": "python",
   "name": "python3"
  },
  "language_info": {
   "codemirror_mode": {
    "name": "ipython",
    "version": 3
   },
   "file_extension": ".py",
   "mimetype": "text/x-python",
   "name": "python",
   "nbconvert_exporter": "python",
   "pygments_lexer": "ipython3",
   "version": "3.11.5"
  }
 },
 "nbformat": 4,
 "nbformat_minor": 2
}
