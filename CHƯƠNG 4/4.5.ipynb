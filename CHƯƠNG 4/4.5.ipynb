{
 "cells": [
  {
   "cell_type": "code",
   "execution_count": 30,
   "metadata": {},
   "outputs": [
    {
     "data": {
      "text/plain": [
       "0      8.089988\n",
       "1     10.447335\n",
       "2     11.161439\n",
       "3      6.262991\n",
       "4      8.314362\n",
       "5      9.667214\n",
       "6      8.430438\n",
       "7     10.600998\n",
       "8      9.527773\n",
       "9     12.573205\n",
       "10     5.618210\n",
       "11    13.973694\n",
       "12    -0.444762\n",
       "13    11.617027\n",
       "14    18.388328\n",
       "15     9.341204\n",
       "16    11.680017\n",
       "17    15.343364\n",
       "18    10.262865\n",
       "19     9.384926\n",
       "20    13.041977\n",
       "21    11.625386\n",
       "22     8.149236\n",
       "23    12.076118\n",
       "24    10.921011\n",
       "dtype: float64"
      ]
     },
     "execution_count": 30,
     "metadata": {},
     "output_type": "execute_result"
    }
   ],
   "source": [
    "import pandas as pd\n",
    "import numpy as np\n",
    "ser = pd.Series(np.random.normal(10,5,25))\n",
    "ser"
   ]
  },
  {
   "cell_type": "code",
   "execution_count": 31,
   "metadata": {},
   "outputs": [
    {
     "name": "stdout",
     "output_type": "stream",
     "text": [
      "-0.4447616673726529\n"
     ]
    }
   ],
   "source": [
    "#1.Tính giá trị tối thiểu(minimum) của ser.\n",
    "min = ser.min()\n",
    "print(min)"
   ]
  },
  {
   "cell_type": "code",
   "execution_count": 32,
   "metadata": {},
   "outputs": [
    {
     "name": "stdout",
     "output_type": "stream",
     "text": [
      "8.430438266486231\n"
     ]
    }
   ],
   "source": [
    "#2.Phần centile thứ 25(25th per centile) của ser. Đây là giá trị mà 25% các giá trị trong  chuỗi nhỏ hơn hoặc bằng nó\n",
    "percentile_25 = ser.quantile(0.25)\n",
    "print(percentile_25)"
   ]
  },
  {
   "cell_type": "code",
   "execution_count": 33,
   "metadata": {},
   "outputs": [
    {
     "name": "stdout",
     "output_type": "stream",
     "text": [
      "10.447335325376901\n"
     ]
    }
   ],
   "source": [
    "#3.Trung vị(median) của ser.Đây là giá trị ở vị trí giữa khi sắp xếp ser theo thứ tự tăng dần.\n",
    "median_value = ser.median()\n",
    "print(median_value)"
   ]
  },
  {
   "cell_type": "code",
   "execution_count": 34,
   "metadata": {},
   "outputs": [
    {
     "name": "stdout",
     "output_type": "stream",
     "text": [
      "11.680016867940157\n"
     ]
    }
   ],
   "source": [
    "#4.Phần centile thứ 75(75th per centile) của ser. Đây là giá trị mà 75% các giá trị trong  chuỗi nhỏ hơn hoặc bằng nó\n",
    "percentile_75 = ser.quantile(0.75)\n",
    "print(percentile_75)"
   ]
  },
  {
   "cell_type": "code",
   "execution_count": 35,
   "metadata": {},
   "outputs": [
    {
     "name": "stdout",
     "output_type": "stream",
     "text": [
      "18.38832809203508\n"
     ]
    }
   ],
   "source": [
    "#5.Tính giá trị tối đa(maximum) của ser.\n",
    "max = ser.max()\n",
    "print(max)"
   ]
  }
 ],
 "metadata": {
  "kernelspec": {
   "display_name": "Python 3",
   "language": "python",
   "name": "python3"
  },
  "language_info": {
   "codemirror_mode": {
    "name": "ipython",
    "version": 3
   },
   "file_extension": ".py",
   "mimetype": "text/x-python",
   "name": "python",
   "nbconvert_exporter": "python",
   "pygments_lexer": "ipython3",
   "version": "3.12.0"
  }
 },
 "nbformat": 4,
 "nbformat_minor": 2
}
