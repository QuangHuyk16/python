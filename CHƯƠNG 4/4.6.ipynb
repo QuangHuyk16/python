{
 "cells": [
  {
   "cell_type": "code",
   "execution_count": 5,
   "metadata": {},
   "outputs": [],
   "source": [
    "import pandas as pd\n",
    "import numpy as np\n",
    "ser = pd.Series(np.take(list('abcdefgh'),np.random.randint(8,size = 30)))"
   ]
  },
  {
   "cell_type": "code",
   "execution_count": 2,
   "metadata": {},
   "outputs": [
    {
     "data": {
      "text/plain": [
       "\"\\n1.Gth ý nghĩa của đoạn code trên\\nĐoạn code trên tạo ra một đối tượng Series của pandas có tên là ser.\\nĐối tượng này chứa 30 phần tử, mỗi phần tử là một ký tự từ chuỗi 'abcdefgh'. Các ký tự này được chọn ngẫu nhiên.\\n\""
      ]
     },
     "execution_count": 2,
     "metadata": {},
     "output_type": "execute_result"
    }
   ],
   "source": [
    "'''\n",
    "1.Gth ý nghĩa của đoạn code trên\n",
    "Đoạn code trên tạo ra một đối tượng Series của pandas có tên là ser.\n",
    "Đối tượng này chứa 30 phần tử, mỗi phần tử là một ký tự từ chuỗi 'abcdefgh'. Các ký tự này được chọn ngẫu nhiên.\n",
    "'''"
   ]
  },
  {
   "cell_type": "code",
   "execution_count": 3,
   "metadata": {},
   "outputs": [
    {
     "name": "stdout",
     "output_type": "stream",
     "text": [
      "a    7\n",
      "c    6\n",
      "e    4\n",
      "g    4\n",
      "f    3\n",
      "b    2\n",
      "h    2\n",
      "d    2\n",
      "Name: count, dtype: int64\n"
     ]
    }
   ],
   "source": [
    "#2.Tính số lần xuất hiện của mỗi giá trị duy nhất trong ser?\n",
    "value_counts = ser.value_counts()\n",
    "print(value_counts)"
   ]
  }
 ],
 "metadata": {
  "kernelspec": {
   "display_name": "Python 3",
   "language": "python",
   "name": "python3"
  },
  "language_info": {
   "codemirror_mode": {
    "name": "ipython",
    "version": 3
   },
   "file_extension": ".py",
   "mimetype": "text/x-python",
   "name": "python",
   "nbconvert_exporter": "python",
   "pygments_lexer": "ipython3",
   "version": "3.11.7"
  }
 },
 "nbformat": 4,
 "nbformat_minor": 2
}
