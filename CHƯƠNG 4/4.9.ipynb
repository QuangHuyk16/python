{
 "cells": [
  {
   "cell_type": "code",
   "execution_count": 1,
   "metadata": {},
   "outputs": [
    {
     "name": "stdout",
     "output_type": "stream",
     "text": [
      "   cot1  cot2  cot3  cot4  cot5\n",
      "0     9     1     8     1     8\n",
      "1     2     1     6     3     9\n",
      "2     8     2     1     8     5\n",
      "3     1     2     8     9     2\n",
      "4     7     7     5     3     7\n",
      "5     3     3     1     9     3\n",
      "6     9     8     1     8     6\n"
     ]
    }
   ],
   "source": [
    "import pandas as pd\n",
    "import numpy as np\n",
    "\n",
    "# Tạo một Series có 35 phần tử, mỗi phần tử là một số nguyên ngẫu nhiên từ 1 đến 10.\n",
    "ser = pd.Series(np.random.randint(1, 10, 35))\n",
    "\n",
    "# Định hình ser thành DataFrame có 7 hàng và 5 cột\n",
    "df = pd.DataFrame(ser.values.reshape(7, 5), columns=['cot1', 'cot2', 'cot3', 'cot4', 'cot5'])\n",
    "\n",
    "# Hiển thị DataFrame\n",
    "print(df)\n"
   ]
  }
 ],
 "metadata": {
  "kernelspec": {
   "display_name": "base",
   "language": "python",
   "name": "python3"
  },
  "language_info": {
   "codemirror_mode": {
    "name": "ipython",
    "version": 3
   },
   "file_extension": ".py",
   "mimetype": "text/x-python",
   "name": "python",
   "nbconvert_exporter": "python",
   "pygments_lexer": "ipython3",
   "version": "3.11.5"
  }
 },
 "nbformat": 4,
 "nbformat_minor": 2
}
