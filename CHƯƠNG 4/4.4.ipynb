{
 "cells": [
  {
   "cell_type": "code",
   "execution_count": 14,
   "metadata": {},
   "outputs": [
    {
     "name": "stdout",
     "output_type": "stream",
     "text": [
      "ser1: 0    1\n",
      "1    2\n",
      "2    3\n",
      "3    4\n",
      "4    5\n",
      "dtype: int64\n",
      "ser2: 0    1\n",
      "1    2\n",
      "2    3\n",
      "3    4\n",
      "4    5\n",
      "dtype: int64\n"
     ]
    }
   ],
   "source": [
    "import pandas as pd\n",
    "import numpy as np\n",
    "ser1 = pd.Series([1,2,3,4,5])\n",
    "ser2 = pd.Series([4,5,6,7,8])\n",
    "print(\"ser1:\",ser1)\n",
    "print(\"ser2:\",ser1)\n"
   ]
  },
  {
   "cell_type": "code",
   "execution_count": 15,
   "metadata": {},
   "outputs": [
    {
     "data": {
      "text/plain": [
       "0    1\n",
       "1    2\n",
       "2    3\n",
       "dtype: int64"
      ]
     },
     "execution_count": 15,
     "metadata": {},
     "output_type": "execute_result"
    }
   ],
   "source": [
    "#1.Từ ser1 hãy xóa các mục có mặt trong ser2\n",
    "ser1 = ser1.drop(ser1[ser1.isin(ser2)].index)\n",
    "ser1"
   ]
  },
  {
   "cell_type": "code",
   "execution_count": 18,
   "metadata": {},
   "outputs": [
    {
     "name": "stdout",
     "output_type": "stream",
     "text": [
      "Các mục không nằm chung trong cả hai là: 0    1\n",
      "1    2\n",
      "2    3\n",
      "2    6\n",
      "3    7\n",
      "4    8\n",
      "dtype: int64\n"
     ]
    }
   ],
   "source": [
    "#2.Lấy tất cả các mục của ser1 và ser2 nhưng không nằm chung trong cả hai.\n",
    "ser1_diff = ser1[~ser1.isin(ser2)]\n",
    "ser2_diff = ser2[~ser2.isin(ser1)]\n",
    "a = pd.concat([ser1_diff,ser2_diff])\n",
    "print(\"Các mục không nằm chung trong cả hai là:\",a)"
   ]
  }
 ],
 "metadata": {
  "kernelspec": {
   "display_name": "Python 3",
   "language": "python",
   "name": "python3"
  },
  "language_info": {
   "codemirror_mode": {
    "name": "ipython",
    "version": 3
   },
   "file_extension": ".py",
   "mimetype": "text/x-python",
   "name": "python",
   "nbconvert_exporter": "python",
   "pygments_lexer": "ipython3",
   "version": "3.11.5"
  }
 },
 "nbformat": 4,
 "nbformat_minor": 2
}
