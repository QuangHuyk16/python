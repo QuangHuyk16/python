{
 "cells": [
  {
   "cell_type": "code",
   "execution_count": 1,
   "metadata": {},
   "outputs": [
    {
     "name": "stdout",
     "output_type": "stream",
     "text": [
      " Chuỗi ban đầu:\n",
      "0     1\n",
      "1     1\n",
      "2     4\n",
      "3     4\n",
      "4     4\n",
      "5     4\n",
      "6     1\n",
      "7     3\n",
      "8     3\n",
      "9     1\n",
      "10    3\n",
      "11    2\n",
      "dtype: int32\n",
      "\n",
      "Chuỗi sau khi thay thế :\n",
      "0         1\n",
      "1         1\n",
      "2         4\n",
      "3         4\n",
      "4         4\n",
      "5         4\n",
      "6         1\n",
      "7     Other\n",
      "8     Other\n",
      "9         1\n",
      "10    Other\n",
      "11    Other\n",
      "dtype: object\n"
     ]
    }
   ],
   "source": [
    "import numpy as np\n",
    "import pandas as pd\n",
    "\n",
    "# Tạo dữ liệu đầu vào\n",
    "np.random.seed(100)\n",
    "ser = pd.Series(np.random.randint(1, 5, [12]))\n",
    "\n",
    "# Đếm tần suất của từng phần tử\n",
    "counts = ser.value_counts()\n",
    "\n",
    "# Lấy hai phần tử có tần suất cao nhất\n",
    "top_2_items = counts.index[:2]\n",
    "\n",
    "# Thay thế các phần tử không thuộc top 2 bằng 'Other'\n",
    "ser_replaced = ser.apply(lambda x: x if x in top_2_items else 'Other')\n",
    "\n",
    "# Hiển thị kết quả\n",
    "print(\" Chuỗi ban đầu:\")\n",
    "print(ser)\n",
    "\n",
    "print(\"\\nChuỗi sau khi thay thế :\")\n",
    "print(ser_replaced)\n"
   ]
  }
 ],
 "metadata": {
  "kernelspec": {
   "display_name": "base",
   "language": "python",
   "name": "python3"
  },
  "language_info": {
   "codemirror_mode": {
    "name": "ipython",
    "version": 3
   },
   "file_extension": ".py",
   "mimetype": "text/x-python",
   "name": "python",
   "nbconvert_exporter": "python",
   "pygments_lexer": "ipython3",
   "version": "3.11.5"
  }
 },
 "nbformat": 4,
 "nbformat_minor": 2
}
